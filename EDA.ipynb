{
 "cells": [
  {
   "cell_type": "code",
   "execution_count": 1,
   "metadata": {},
   "outputs": [],
   "source": [
    "import pandas as pd \n",
    "import numpy as np \n",
    "import matplotlib.pyplot as plt\n",
    "import seaborn as sns"
   ]
  },
  {
   "cell_type": "code",
   "execution_count": 29,
   "metadata": {},
   "outputs": [],
   "source": [
    "data = pd.read_csv(\"C:/Users/shubh/Desktop/phone_usage_india.csv\")"
   ]
  },
  {
   "cell_type": "code",
   "execution_count": 30,
   "metadata": {},
   "outputs": [
    {
     "name": "stdout",
     "output_type": "stream",
     "text": [
      "<class 'pandas.core.frame.DataFrame'>\n",
      "RangeIndex: 17686 entries, 0 to 17685\n",
      "Data columns (total 16 columns):\n",
      " #   Column                        Non-Null Count  Dtype  \n",
      "---  ------                        --------------  -----  \n",
      " 0   User ID                       17686 non-null  object \n",
      " 1   Age                           17686 non-null  int64  \n",
      " 2   Gender                        17686 non-null  object \n",
      " 3   Location                      17686 non-null  object \n",
      " 4   Phone Brand                   17686 non-null  object \n",
      " 5   OS                            17686 non-null  object \n",
      " 6   Screen Time (hrs/day)         17686 non-null  float64\n",
      " 7   Data Usage (GB/month)         17686 non-null  float64\n",
      " 8   Calls Duration (mins/day)     17686 non-null  float64\n",
      " 9   Number of Apps Installed      17686 non-null  int64  \n",
      " 10  Social Media Time (hrs/day)   17686 non-null  float64\n",
      " 11  E-commerce Spend (INR/month)  17686 non-null  int64  \n",
      " 12  Streaming Time (hrs/day)      17686 non-null  float64\n",
      " 13  Gaming Time (hrs/day)         17686 non-null  float64\n",
      " 14  Monthly Recharge Cost (INR)   17686 non-null  int64  \n",
      " 15  Primary Use                   17686 non-null  object \n",
      "dtypes: float64(6), int64(4), object(6)\n",
      "memory usage: 2.2+ MB\n",
      "None\n"
     ]
    }
   ],
   "source": [
    "print(data.info())"
   ]
  },
  {
   "cell_type": "code",
   "execution_count": 31,
   "metadata": {},
   "outputs": [
    {
     "name": "stdout",
     "output_type": "stream",
     "text": [
      "  User ID  Age  Gender   Location Phone Brand       OS  Screen Time (hrs/day)  \\\n",
      "0  U00001   53    Male     Mumbai        Vivo  Android                    3.7   \n",
      "1  U00002   60   Other      Delhi      Realme      iOS                    9.2   \n",
      "2  U00003   37  Female  Ahmedabad       Nokia  Android                    4.5   \n",
      "3  U00004   32    Male       Pune     Samsung  Android                   11.0   \n",
      "4  U00005   16    Male     Mumbai      Xiaomi      iOS                    2.2   \n",
      "\n",
      "   Data Usage (GB/month)  Calls Duration (mins/day)  Number of Apps Installed  \\\n",
      "0                   23.9                       37.9                       104   \n",
      "1                   28.1                       13.7                       169   \n",
      "2                   12.3                       66.8                        96   \n",
      "3                   25.6                      156.2                       146   \n",
      "4                    2.5                      236.2                        86   \n",
      "\n",
      "   Social Media Time (hrs/day)  E-commerce Spend (INR/month)  \\\n",
      "0                          3.9                           469   \n",
      "1                          2.8                          4997   \n",
      "2                          3.0                          2381   \n",
      "3                          5.2                          1185   \n",
      "4                          5.5                           106   \n",
      "\n",
      "   Streaming Time (hrs/day)  Gaming Time (hrs/day)  \\\n",
      "0                       5.2                    4.1   \n",
      "1                       5.1                    0.4   \n",
      "2                       1.7                    2.9   \n",
      "3                       3.2                    0.3   \n",
      "4                       3.4                    2.3   \n",
      "\n",
      "   Monthly Recharge Cost (INR)    Primary Use  \n",
      "0                          803      Education  \n",
      "1                         1526         Gaming  \n",
      "2                         1619  Entertainment  \n",
      "3                         1560  Entertainment  \n",
      "4                          742   Social Media  \n"
     ]
    }
   ],
   "source": [
    "print(data.head())\n"
   ]
  }
 ],
 "metadata": {
  "kernelspec": {
   "display_name": "Python 3",
   "language": "python",
   "name": "python3"
  },
  "language_info": {
   "codemirror_mode": {
    "name": "ipython",
    "version": 3
   },
   "file_extension": ".py",
   "mimetype": "text/x-python",
   "name": "python",
   "nbconvert_exporter": "python",
   "pygments_lexer": "ipython3",
   "version": "3.12.5"
  }
 },
 "nbformat": 4,
 "nbformat_minor": 2
}
